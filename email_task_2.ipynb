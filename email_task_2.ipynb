{
  "cells": [
    {
      "cell_type": "code",
      "execution_count": 1,
      "metadata": {
        "id": "YqBgGDE5N7Fb"
      },
      "outputs": [],
      "source": [
        "import nltk\n",
        "from nltk.tokenize import word_tokenize, sent_tokenize\n",
        "from nltk.corpus import stopwords\n",
        "from nltk.sentiment import SentimentIntensityAnalyzer\n",
        "from fpdf import FPDF\n",
        "import re\n",
        "from datetime import datetime"
      ]
    },
    {
      "cell_type": "code",
      "execution_count": 2,
      "metadata": {
        "colab": {
          "base_uri": "https://localhost:8080/"
        },
        "id": "npAu6tJmfFjW",
        "outputId": "63227962-9a14-4a76-ddac-cb3e37c3ae9d"
      },
      "outputs": [
        {
          "name": "stderr",
          "output_type": "stream",
          "text": [
            "[nltk_data] Downloading package punkt to\n",
            "[nltk_data]     C:\\Users\\5A_Traders\\AppData\\Roaming\\nltk_data...\n",
            "[nltk_data]   Package punkt is already up-to-date!\n",
            "[nltk_data] Downloading package punkt_tab to\n",
            "[nltk_data]     C:\\Users\\5A_Traders\\AppData\\Roaming\\nltk_data...\n",
            "[nltk_data]   Package punkt_tab is already up-to-date!\n",
            "[nltk_data] Downloading package stopwords to\n",
            "[nltk_data]     C:\\Users\\5A_Traders\\AppData\\Roaming\\nltk_data...\n",
            "[nltk_data]   Package stopwords is already up-to-date!\n",
            "[nltk_data] Downloading package averaged_perceptron_tagger to\n",
            "[nltk_data]     C:\\Users\\5A_Traders\\AppData\\Roaming\\nltk_data...\n",
            "[nltk_data]   Package averaged_perceptron_tagger is already up-to-\n",
            "[nltk_data]       date!\n",
            "[nltk_data] Downloading package vader_lexicon to\n",
            "[nltk_data]     C:\\Users\\5A_Traders\\AppData\\Roaming\\nltk_data...\n",
            "[nltk_data]   Package vader_lexicon is already up-to-date!\n"
          ]
        }
      ],
      "source": [
        "# Ensure required NLTK data packages are downloaded\n",
        "nltk.download('punkt')\n",
        "nltk.download('punkt_tab')\n",
        "nltk.download('stopwords')\n",
        "nltk.download('averaged_perceptron_tagger')\n",
        "nltk.download('vader_lexicon')\n",
        "\n",
        "# Initialize Sentiment Analyzer\n",
        "sia = SentimentIntensityAnalyzer()"
      ]
    },
    {
      "cell_type": "code",
      "execution_count": 3,
      "metadata": {
        "id": "sr5_7sBZKAbp"
      },
      "outputs": [],
      "source": [
        "# Sample email dataset\n",
        "emails = [\n",
        "    {\"subject\": \"Urgent: Complete the budget report\", \"sender\": \"projectlead@example.com\", \"body\": \"Please complete the budget report by EOD today.\"},\n",
        "    {\"subject\": \"Reminder: Team meeting\", \"sender\": \"hrmanager@example.org\", \"body\": \"Join the team meeting tomorrow at 10 AM.\"},\n",
        "    {\"subject\": \"Follow-up: Send the client proposal\", \"sender\": \"accountmanager@example.com\", \"body\": \"Send the updated proposal to the client by next week.\"},\n",
        "    {\"subject\": \"Important: Update the project plan\", \"sender\": \"teamlead@example.net\", \"body\": \"Update the project plan with the latest milestones and share it with the team.\"},\n",
        "    {\"subject\": \"Task: Review the quarterly performance\", \"sender\": \"adminoffice@example.com\", \"body\": \"Review the performance metrics for the last quarter and prepare a summary.\"},\n",
        "    {\"subject\": \"Alert: Fix the server issue\", \"sender\": \"it_support@example.com\", \"body\": \"The production server is down. Please fix the issue immediately.\"},\n",
        "    {\"subject\": \"Request: Schedule a meeting with the vendor\", \"sender\": \"eventcoordinator@example.com\", \"body\": \"Coordinate with the vendor and schedule a meeting next week.\"},\n",
        "    {\"subject\": \"Note: Prepare for the client presentation\", \"sender\": \"trainingdept@example.org\", \"body\": \"Work on the slides for the upcoming client presentation.\"},\n",
        "    {\"subject\": \"Reminder: Submit the expense reports\", \"sender\": \"financehead@example.com\", \"body\": \"Ensure all expense reports are submitted by the end of this week.\"},\n",
        "    {\"subject\": \"Task: Organize the team outing\", \"sender\": \"marketinglead@example.com\", \"body\": \"Plan and organize the team outing for next month.\"}\n",
        "]"
      ]
    },
    {
      "cell_type": "code",
      "execution_count": 4,
      "metadata": {
        "colab": {
          "base_uri": "https://localhost:8080/"
        },
        "id": "vxeodG8lvZ7_",
        "outputId": "927a87db-0ba7-4094-9f17-8dee9d4d1d06"
      },
      "outputs": [
        {
          "name": "stdout",
          "output_type": "stream",
          "text": [
            "To-Do list saved to todo_list.pdf\n"
          ]
        }
      ],
      "source": [
        "def sanitize_text(text):\n",
        "    \"\"\"Replace unsupported Unicode characters with ASCII equivalents.\"\"\"\n",
        "    replacements = {\n",
        "        \"\\u2018\": \"'\",  # Left single quotation mark\n",
        "        \"\\u2019\": \"'\",  # Right single quotation mark\n",
        "        \"\\u201C\": \"\\\"\",  # Left double quotation mark\n",
        "        \"\\u201D\": \"\\\"\",  # Right double quotation mark\n",
        "        \"\\u2013\": \"-\",  # En dash\n",
        "        \"\\u2014\": \"-\",  # Em dash\n",
        "    }\n",
        "    for unicode_char, ascii_char in replacements.items():\n",
        "        text = text.replace(unicode_char, ascii_char)\n",
        "    return text\n",
        "\n",
        "def analyze_priority(subject, body):\n",
        "    \"\"\"Analyze priority based on email subject and body using advanced sentiment analysis.\"\"\"\n",
        "    combined_text = subject + \" \" + body\n",
        "    sentiment_scores = sia.polarity_scores(combined_text)\n",
        "    sentiment_score = sentiment_scores['compound']\n",
        "    neg_score = sentiment_scores['neg']\n",
        "    pos_score = sentiment_scores['pos']\n",
        "\n",
        "    # Assign priority based on sentiment and keywords\n",
        "    if \"urgent\" in subject.lower() or \"alert\" in subject.lower() or \"deadline\" in subject.lower():\n",
        "        return 1\n",
        "    elif \"important\" in subject.lower():\n",
        "        return 2\n",
        "    elif \"reminder\" in subject.lower():\n",
        "        return 3\n",
        "    elif neg_score > 0.4:\n",
        "        return 1  # High priority for strong negative sentiment\n",
        "    elif pos_score > 0.4:\n",
        "        return 4  # Low priority for strong positive sentiment\n",
        "    elif sentiment_score < -0.3:\n",
        "        return 2  # Elevated priority for negative sentiment\n",
        "    elif sentiment_score > 0.3:\n",
        "        return 4  # Reduced priority for positive sentiment\n",
        "    else:\n",
        "        return 5  # Default low priority\n",
        "\n",
        "def extract_tasks_from_emails(emails):\n",
        "    \"\"\"Extract tasks and priorities from email content.\"\"\"\n",
        "    tasks = []\n",
        "\n",
        "    for email in emails:\n",
        "        priority = analyze_priority(email['subject'], email['body'])\n",
        "\n",
        "        # Extract tasks from the email body (short and precise)\n",
        "        sentences = sent_tokenize(email['body'])\n",
        "        task = sentences[0] if sentences else email['subject']  # Use the first sentence of the body or subject\n",
        "        task = ' '.join(task.split()[:10])  # Limit task to 10 words\n",
        "\n",
        "        tasks.append({\n",
        "            \"task\": task,\n",
        "            \"Email Sender\": email['sender'],\n",
        "            \"Email Subject\": email['subject'],\n",
        "            \"Priority\": priority\n",
        "        })\n",
        "\n",
        "    # Sort tasks by priority\n",
        "    tasks = sorted(tasks, key=lambda x: x['Priority'])\n",
        "    return tasks\n",
        "\n",
        "def save_tasks_to_pdf(tasks, filename=\"todo_list.pdf\"):\n",
        "    \"\"\"Save tasks to a PDF file.\"\"\"\n",
        "    pdf = FPDF()\n",
        "    pdf.set_auto_page_break(auto=True, margin=15)\n",
        "    pdf.add_page()\n",
        "    pdf.set_font(\"Arial\", size=12)\n",
        "\n",
        "    pdf.cell(200, 10, txt=\"To-Do List\", ln=True, align='C')\n",
        "\n",
        "    # Add the current date\n",
        "    current_date = datetime.now().strftime(\"%d/%m/%Y\")\n",
        "    pdf.cell(200, 10, txt=f\"Date: {current_date}\", ln=True, align='C')\n",
        "\n",
        "    pdf.ln(10)\n",
        "\n",
        "    for task_entry in tasks:\n",
        "        pdf.cell(0, 10, txt=f\"Priority: {task_entry['Priority']}\", ln=True)\n",
        "        pdf.cell(0, 10, txt=f\"Task: {sanitize_text(task_entry['task'])}\", ln=True)\n",
        "        pdf.cell(0, 10, txt=f\"Email Sender: {sanitize_text(task_entry['Email Sender'])}\", ln=True)\n",
        "        pdf.cell(0, 10, txt=f\"Email Subject: {sanitize_text(task_entry['Email Subject'])}\", ln=True)\n",
        "        pdf.cell(0, 10, txt=f\"___________________________________________________________\", ln=True)\n",
        "        pdf.ln(5)\n",
        "\n",
        "    pdf.output(filename)\n",
        "    print(f\"To-Do list saved to {filename}\")\n",
        "\n",
        "# Extract tasks from emails\n",
        "tasks = extract_tasks_from_emails(emails)\n",
        "\n",
        "# Save the tasks to a PDF\n",
        "save_tasks_to_pdf(tasks)"
      ]
    },
    {
      "cell_type": "code",
      "execution_count": null,
      "metadata": {},
      "outputs": [],
      "source": []
    }
  ],
  "metadata": {
    "colab": {
      "provenance": []
    },
    "kernelspec": {
      "display_name": "Python 3",
      "name": "python3"
    },
    "language_info": {
      "codemirror_mode": {
        "name": "ipython",
        "version": 3
      },
      "file_extension": ".py",
      "mimetype": "text/x-python",
      "name": "python",
      "nbconvert_exporter": "python",
      "pygments_lexer": "ipython3",
      "version": "3.11.1"
    }
  },
  "nbformat": 4,
  "nbformat_minor": 0
}
